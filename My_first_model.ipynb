{
  "nbformat": 4,
  "nbformat_minor": 0,
  "metadata": {
    "colab": {
      "provenance": []
    },
    "kernelspec": {
      "name": "python3",
      "display_name": "Python 3"
    },
    "language_info": {
      "name": "python"
    }
  },
  "cells": [
    {
      "cell_type": "markdown",
      "source": [
        "My first Model Training\n",
        "Training a Model how to convert from degree Celcius to Fanrenheit"
      ],
      "metadata": {
        "id": "vRWx6Evs9gR8"
      }
    },
    {
      "cell_type": "code",
      "execution_count": 1,
      "metadata": {
        "id": "9xS2J9ke9c8K"
      },
      "outputs": [],
      "source": [
        "import tensorflow as tf\n",
        "import numpy as np"
      ]
    },
    {
      "cell_type": "markdown",
      "source": [
        "Set up the Training Data"
      ],
      "metadata": {
        "id": "o52J-zVt-S2e"
      }
    },
    {
      "cell_type": "code",
      "source": [
        "celsius = np.array([0,5,7,8,11,15,16,20,22,25,30,32,35,40,44,50,60,100,120,-30,-25], dtype=float)\n",
        "fahrenheit = np.array([32,41,44.6,46.4,51.8,59,60.8,68,71.6,77,86,89.6,95,104,111.2,122,140,212,248,-22,-13], dtype=float)\n",
        "for i, c in enumerate(celsius):\n",
        "  print('{} degree Celsius = {} degree Fahrenheit'.format(c, fahrenheit[i]))"
      ],
      "metadata": {
        "colab": {
          "base_uri": "https://localhost:8080/"
        },
        "id": "4ymF-WIx-GiL",
        "outputId": "2e7a98d6-fb1e-401b-ae57-889e57030a24"
      },
      "execution_count": 2,
      "outputs": [
        {
          "output_type": "stream",
          "name": "stdout",
          "text": [
            "0.0 degree Celsius = 32.0 degree Fahrenheit\n",
            "5.0 degree Celsius = 41.0 degree Fahrenheit\n",
            "7.0 degree Celsius = 44.6 degree Fahrenheit\n",
            "8.0 degree Celsius = 46.4 degree Fahrenheit\n",
            "11.0 degree Celsius = 51.8 degree Fahrenheit\n",
            "15.0 degree Celsius = 59.0 degree Fahrenheit\n",
            "16.0 degree Celsius = 60.8 degree Fahrenheit\n",
            "20.0 degree Celsius = 68.0 degree Fahrenheit\n",
            "22.0 degree Celsius = 71.6 degree Fahrenheit\n",
            "25.0 degree Celsius = 77.0 degree Fahrenheit\n",
            "30.0 degree Celsius = 86.0 degree Fahrenheit\n",
            "32.0 degree Celsius = 89.6 degree Fahrenheit\n",
            "35.0 degree Celsius = 95.0 degree Fahrenheit\n",
            "40.0 degree Celsius = 104.0 degree Fahrenheit\n",
            "44.0 degree Celsius = 111.2 degree Fahrenheit\n",
            "50.0 degree Celsius = 122.0 degree Fahrenheit\n",
            "60.0 degree Celsius = 140.0 degree Fahrenheit\n",
            "100.0 degree Celsius = 212.0 degree Fahrenheit\n",
            "120.0 degree Celsius = 248.0 degree Fahrenheit\n",
            "-30.0 degree Celsius = -22.0 degree Fahrenheit\n",
            "-25.0 degree Celsius = -13.0 degree Fahrenheit\n"
          ]
        }
      ]
    },
    {
      "cell_type": "code",
      "source": [
        "from keras.regularizers import L2\n",
        "l0 = tf.keras.layers.Dense(units=32, input_shape=[1]) \n",
        "l1 = tf.keras.layers.Dense(units=64)\n",
        "l2 = tf.keras.layers.Dense(units=4)\n",
        "model = tf.keras.Sequential([l0, l1, l2])\n",
        "model.compile(loss='mean_squared_error', optimizer=tf.keras.optimizers.Adam(0.1))\n",
        "history = model.fit(celsius, fahrenheit, epochs=500, verbose=False)"
      ],
      "metadata": {
        "id": "1Cu5bDHAxp6d"
      },
      "execution_count": 17,
      "outputs": []
    },
    {
      "cell_type": "code",
      "source": [
        "predictions = model.predict(celsius)\n",
        "predictions"
      ],
      "metadata": {
        "colab": {
          "base_uri": "https://localhost:8080/"
        },
        "id": "Uvaby2fT4_kZ",
        "outputId": "c63fc130-9f17-4525-ae35-6bd9537943b9"
      },
      "execution_count": 18,
      "outputs": [
        {
          "output_type": "stream",
          "name": "stderr",
          "text": [
            "WARNING:tensorflow:6 out of the last 8 calls to <function Model.make_predict_function.<locals>.predict_function at 0x7f10379f05e0> triggered tf.function retracing. Tracing is expensive and the excessive number of tracings could be due to (1) creating @tf.function repeatedly in a loop, (2) passing tensors with different shapes, (3) passing Python objects instead of tensors. For (1), please define your @tf.function outside of the loop. For (2), @tf.function has reduce_retracing=True option that can avoid unnecessary retracing. For (3), please refer to https://www.tensorflow.org/guide/function#controlling_retracing and https://www.tensorflow.org/api_docs/python/tf/function for  more details.\n"
          ]
        },
        {
          "output_type": "stream",
          "name": "stdout",
          "text": [
            "1/1 [==============================] - 0s 62ms/step\n"
          ]
        },
        {
          "output_type": "execute_result",
          "data": {
            "text/plain": [
              "array([[ 31.999998,  31.999998,  31.999998,  31.999998],\n",
              "       [ 41.000004,  41.000004,  41.      ,  41.000004],\n",
              "       [ 44.6     ,  44.599995,  44.6     ,  44.6     ],\n",
              "       [ 46.4     ,  46.4     ,  46.399994,  46.399998],\n",
              "       [ 51.800003,  51.799995,  51.799995,  51.8     ],\n",
              "       [ 59.000004,  59.000004,  59.      ,  59.      ],\n",
              "       [ 60.800003,  60.8     ,  60.800003,  60.800003],\n",
              "       [ 68.      ,  68.      ,  68.      ,  68.00001 ],\n",
              "       [ 71.600006,  71.59999 ,  71.600006,  71.600006],\n",
              "       [ 77.00001 ,  76.99999 ,  77.      ,  77.      ],\n",
              "       [ 86.      ,  85.99999 ,  86.      ,  86.      ],\n",
              "       [ 89.6     ,  89.59999 ,  89.600006,  89.59999 ],\n",
              "       [ 95.      ,  95.      ,  95.00001 ,  95.      ],\n",
              "       [104.      , 104.      , 103.99999 , 104.00001 ],\n",
              "       [111.200005, 111.20001 , 111.2     , 111.200005],\n",
              "       [122.000015, 122.      , 122.      , 122.      ],\n",
              "       [140.00002 , 140.00002 , 140.      , 139.99998 ],\n",
              "       [212.      , 212.      , 212.00003 , 212.00003 ],\n",
              "       [248.      , 247.99998 , 247.99997 , 248.00005 ],\n",
              "       [-22.000008, -22.000006, -22.000006, -22.000006],\n",
              "       [-13.000006, -13.000003, -13.000004, -13.000005]], dtype=float32)"
            ]
          },
          "metadata": {},
          "execution_count": 18
        }
      ]
    },
    {
      "cell_type": "markdown",
      "source": [
        "Now is to Create our Model"
      ],
      "metadata": {
        "id": "6-072iNdEd_T"
      }
    },
    {
      "cell_type": "markdown",
      "source": [
        "Next is to compile our model"
      ],
      "metadata": {
        "id": "f2a_3fJjGKDr"
      }
    },
    {
      "cell_type": "markdown",
      "source": [
        "It is time to Train the model\n"
      ],
      "metadata": {
        "id": "Magtb-DrGwKY"
      }
    },
    {
      "cell_type": "markdown",
      "source": [
        "Data Visualization"
      ],
      "metadata": {
        "id": "5DwQN01EHaBX"
      }
    },
    {
      "cell_type": "code",
      "source": [
        "import matplotlib.pyplot as plt\n",
        "plt.xlabel('Number of Epoch')\n",
        "plt.ylabel('Loss Magnitude')\n",
        "plt.plot(history.history['loss'])"
      ],
      "metadata": {
        "colab": {
          "base_uri": "https://localhost:8080/",
          "height": 466
        },
        "id": "kpsMWjOxHLSo",
        "outputId": "f4204c0d-1673-4a51-9f5c-61ec23f44061"
      },
      "execution_count": 5,
      "outputs": [
        {
          "output_type": "execute_result",
          "data": {
            "text/plain": [
              "[<matplotlib.lines.Line2D at 0x7f1037d3c040>]"
            ]
          },
          "metadata": {},
          "execution_count": 5
        },
        {
          "output_type": "display_data",
          "data": {
            "text/plain": [
              "<Figure size 640x480 with 1 Axes>"
            ],
            "image/png": "[encoded data removed]"
          },
          "metadata": {}
        }
      ]
    },
    {
      "cell_type": "markdown",
      "source": [
        "Let's Use our model to predict values"
      ],
      "metadata": {
        "id": "w2B3npMeIa1_"
      }
    },
    {
      "cell_type": "markdown",
      "source": [
        "Let's look at the layers weights"
      ],
      "metadata": {
        "id": "DPkrLrUALPNG"
      }
    },
    {
      "cell_type": "code",
      "source": [
        "# Access the layer\n",
        "layer = model.layers[0]\n",
        "\n",
        "# Get the weights\n",
        "weights = layer.get_weights()\n",
        "\n",
        "# Print the weights\n",
        "print(weights)"
      ],
      "metadata": {
        "colab": {
          "base_uri": "https://localhost:8080/"
        },
        "id": "-b7IZ7HbIq09",
        "outputId": "c9415873-6380-4bcd-9770-0ffff7a25804"
      },
      "execution_count": 6,
      "outputs": [
        {
          "output_type": "stream",
          "name": "stdout",
          "text": [
            "[array([[ 0.0651105 , -0.04079468, -0.20815705,  0.02630476, -0.24587126,\n",
            "        -0.05502355,  0.09674713,  0.06162416, -0.04941776,  0.07312208,\n",
            "         0.12426474, -0.08529713, -0.11218493, -0.09851527, -0.16830866,\n",
            "        -0.04094192, -0.0106276 , -0.0434747 ,  0.16696836, -0.03549437,\n",
            "        -0.08491594, -0.02812001,  0.08218255,  0.12788723,  0.03275409,\n",
            "        -0.1174003 , -0.06917898,  0.08173002,  0.12650496,  0.10128281,\n",
            "        -0.02711087, -0.14568023]], dtype=float32), array([-0.38177487,  0.26743904, -1.0652038 , -0.34664539, -0.856842  ,\n",
            "        0.47154725, -0.27730808, -0.11603184,  0.11432329, -0.11101019,\n",
            "       -0.624512  ,  0.70365083, -0.69600886,  0.54207313, -0.5691329 ,\n",
            "       -0.47587988,  0.44404352,  0.59204423,  1.0747919 ,  0.28575218,\n",
            "        0.50309104,  0.36586007, -0.27311572, -0.40099356, -0.33308664,\n",
            "       -0.8560077 ,  0.18456315,  0.3912896 ,  0.45041475,  0.51377106,\n",
            "        0.4155964 , -0.89571583], dtype=float32)]\n"
          ]
        }
      ]
    },
    {
      "cell_type": "code",
      "source": [],
      "metadata": {
        "id": "5-006AXfi_kQ"
      },
      "execution_count": 6,
      "outputs": []
    }
  ]
}